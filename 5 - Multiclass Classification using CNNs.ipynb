{
  "cells": [
    {
      "cell_type": "markdown",
      "metadata": {
        "id": "cF-pnQy2YMQT"
      },
      "source": [
        "# Deep Learning - Lab 5\n",
        "# Multiclass Image Classification using CNNs\n",
        "\n",
        "------------------------------------------------\n"
      ]
    },
    {
      "cell_type": "markdown",
      "metadata": {
        "id": "XqO8PIA4YlFm"
      },
      "source": [
        "# Dataset\n",
        "The given dataset is a large-scale face dataset with long age span (range from 0 to 116 years old). The dataset consists of over 20,000 face images with annotations of age, gender, and ethnicity. **We will be using all of the 20,000 images**. The dataset in this assignment is going to be used on the following task:\n",
        "\n",
        "## Given the pixels of an image, perform ethnicity classification for the image using a convolutional neural network.\n",
        "\n",
        "\n",
        "The dataset for this lab is already cleaned and provided in a CSV format for you with images included as pixel values.\n",
        "\n",
        "The 4 columns contain the following information:\n",
        "\n",
        "\n",
        "* **[age]** is an integer from 0 to 116, indicating the age. You can convert it to float for regression predictions\n",
        "* **[gender]** is either 0 (male) or 1 (female)\n",
        "* **[race]** is an integer from 0 to 4, denoting White, Black, Asian, Indian, and Others (like Hispanic, Latino, Middle Eastern).\n",
        "*  The 4th column contains the pixels of the images flattened to a single dimension. Each of the original image is of size 48x48 and the flattened image vector consists of 48x48 = 2304 pixel values.\n",
        "\n",
        "## You would be only using the Ethnicity Labels for your task and discard the Age and Gender labels for this lab."
      ]
    },
    {
      "cell_type": "code",
      "execution_count": 2,
      "metadata": {
        "colab": {
          "base_uri": "https://localhost:8080/"
        },
        "id": "-L_pcQJGYHCd",
        "outputId": "7fb4f04f-467f-43b4-978d-b4d44161546e"
      },
      "outputs": [
        {
          "name": "stdout",
          "output_type": "stream",
          "text": [
            "Downloading...\n",
            "From: https://drive.google.com/uc?id=1_KRWsOhQNf6BZcdu4pg2JVy-lHo7_Cno\n",
            "To: /content/DL_assignment1_dataset.csv\n",
            "100% 199M/199M [00:01<00:00, 110MB/s]\n"
          ]
        }
      ],
      "source": [
        "!gdown https://drive.google.com/file/d/1_KRWsOhQNf6BZcdu4pg2JVy-lHo7_Cno/view?usp=sharing --fuzzy"
      ]
    },
    {
      "cell_type": "code",
      "execution_count": 3,
      "metadata": {
        "id": "ZbV2cYFoW6es"
      },
      "outputs": [],
      "source": [
        "import pandas\n",
        "import numpy as np\n",
        "import matplotlib.pyplot as plt"
      ]
    },
    {
      "cell_type": "code",
      "execution_count": 4,
      "metadata": {
        "colab": {
          "base_uri": "https://localhost:8080/",
          "height": 424
        },
        "id": "mhIMgnKIXDim",
        "outputId": "05e95900-7626-4cf4-c8ab-231c7fbfb37c"
      },
      "outputs": [
        {
          "data": {
            "text/html": [
              "\n",
              "  <div id=\"df-e30cc0c2-7efc-47a3-82dd-92dabb88c5b0\" class=\"colab-df-container\">\n",
              "    <div>\n",
              "<style scoped>\n",
              "    .dataframe tbody tr th:only-of-type {\n",
              "        vertical-align: middle;\n",
              "    }\n",
              "\n",
              "    .dataframe tbody tr th {\n",
              "        vertical-align: top;\n",
              "    }\n",
              "\n",
              "    .dataframe thead th {\n",
              "        text-align: right;\n",
              "    }\n",
              "</style>\n",
              "<table border=\"1\" class=\"dataframe\">\n",
              "  <thead>\n",
              "    <tr style=\"text-align: right;\">\n",
              "      <th></th>\n",
              "      <th>age</th>\n",
              "      <th>ethnicity</th>\n",
              "      <th>gender</th>\n",
              "      <th>pixels</th>\n",
              "    </tr>\n",
              "  </thead>\n",
              "  <tbody>\n",
              "    <tr>\n",
              "      <th>0</th>\n",
              "      <td>1</td>\n",
              "      <td>2</td>\n",
              "      <td>0</td>\n",
              "      <td>129 128 128 126 127 130 133 135 139 142 145 14...</td>\n",
              "    </tr>\n",
              "    <tr>\n",
              "      <th>1</th>\n",
              "      <td>1</td>\n",
              "      <td>2</td>\n",
              "      <td>0</td>\n",
              "      <td>164 74 111 168 169 171 175 182 184 188 193 199...</td>\n",
              "    </tr>\n",
              "    <tr>\n",
              "      <th>2</th>\n",
              "      <td>1</td>\n",
              "      <td>2</td>\n",
              "      <td>0</td>\n",
              "      <td>67 70 71 70 69 67 70 79 90 103 116 132 145 155...</td>\n",
              "    </tr>\n",
              "    <tr>\n",
              "      <th>3</th>\n",
              "      <td>1</td>\n",
              "      <td>2</td>\n",
              "      <td>0</td>\n",
              "      <td>193 197 198 200 199 200 202 203 204 205 208 21...</td>\n",
              "    </tr>\n",
              "    <tr>\n",
              "      <th>4</th>\n",
              "      <td>1</td>\n",
              "      <td>2</td>\n",
              "      <td>0</td>\n",
              "      <td>202 205 209 210 209 209 210 211 212 214 218 21...</td>\n",
              "    </tr>\n",
              "    <tr>\n",
              "      <th>...</th>\n",
              "      <td>...</td>\n",
              "      <td>...</td>\n",
              "      <td>...</td>\n",
              "      <td>...</td>\n",
              "    </tr>\n",
              "    <tr>\n",
              "      <th>23700</th>\n",
              "      <td>99</td>\n",
              "      <td>0</td>\n",
              "      <td>1</td>\n",
              "      <td>127 100 94 81 77 77 74 99 102 98 128 145 160 1...</td>\n",
              "    </tr>\n",
              "    <tr>\n",
              "      <th>23701</th>\n",
              "      <td>99</td>\n",
              "      <td>1</td>\n",
              "      <td>1</td>\n",
              "      <td>23 28 32 35 42 47 68 85 98 103 113 117 130 129...</td>\n",
              "    </tr>\n",
              "    <tr>\n",
              "      <th>23702</th>\n",
              "      <td>99</td>\n",
              "      <td>2</td>\n",
              "      <td>1</td>\n",
              "      <td>59 50 37 40 34 19 30 101 156 170 177 184 187 1...</td>\n",
              "    </tr>\n",
              "    <tr>\n",
              "      <th>23703</th>\n",
              "      <td>99</td>\n",
              "      <td>2</td>\n",
              "      <td>1</td>\n",
              "      <td>45 108 120 156 206 197 140 180 191 199 204 207...</td>\n",
              "    </tr>\n",
              "    <tr>\n",
              "      <th>23704</th>\n",
              "      <td>99</td>\n",
              "      <td>0</td>\n",
              "      <td>1</td>\n",
              "      <td>156 161 160 165 170 173 166 177 183 191 187 18...</td>\n",
              "    </tr>\n",
              "  </tbody>\n",
              "</table>\n",
              "<p>23705 rows × 4 columns</p>\n",
              "</div>\n",
              "    <div class=\"colab-df-buttons\">\n",
              "\n",
              "  <div class=\"colab-df-container\">\n",
              "    <button class=\"colab-df-convert\" onclick=\"convertToInteractive('df-e30cc0c2-7efc-47a3-82dd-92dabb88c5b0')\"\n",
              "            title=\"Convert this dataframe to an interactive table.\"\n",
              "            style=\"display:none;\">\n",
              "\n",
              "  <svg xmlns=\"http://www.w3.org/2000/svg\" height=\"24px\" viewBox=\"0 -960 960 960\">\n",
              "    <path d=\"M120-120v-720h720v720H120Zm60-500h600v-160H180v160Zm220 220h160v-160H400v160Zm0 220h160v-160H400v160ZM180-400h160v-160H180v160Zm440 0h160v-160H620v160ZM180-180h160v-160H180v160Zm440 0h160v-160H620v160Z\"/>\n",
              "  </svg>\n",
              "    </button>\n",
              "\n",
              "  <style>\n",
              "    .colab-df-container {\n",
              "      display:flex;\n",
              "      gap: 12px;\n",
              "    }\n",
              "\n",
              "    .colab-df-convert {\n",
              "      background-color: #E8F0FE;\n",
              "      border: none;\n",
              "      border-radius: 50%;\n",
              "      cursor: pointer;\n",
              "      display: none;\n",
              "      fill: #1967D2;\n",
              "      height: 32px;\n",
              "      padding: 0 0 0 0;\n",
              "      width: 32px;\n",
              "    }\n",
              "\n",
              "    .colab-df-convert:hover {\n",
              "      background-color: #E2EBFA;\n",
              "      box-shadow: 0px 1px 2px rgba(60, 64, 67, 0.3), 0px 1px 3px 1px rgba(60, 64, 67, 0.15);\n",
              "      fill: #174EA6;\n",
              "    }\n",
              "\n",
              "    .colab-df-buttons div {\n",
              "      margin-bottom: 4px;\n",
              "    }\n",
              "\n",
              "    [theme=dark] .colab-df-convert {\n",
              "      background-color: #3B4455;\n",
              "      fill: #D2E3FC;\n",
              "    }\n",
              "\n",
              "    [theme=dark] .colab-df-convert:hover {\n",
              "      background-color: #434B5C;\n",
              "      box-shadow: 0px 1px 3px 1px rgba(0, 0, 0, 0.15);\n",
              "      filter: drop-shadow(0px 1px 2px rgba(0, 0, 0, 0.3));\n",
              "      fill: #FFFFFF;\n",
              "    }\n",
              "  </style>\n",
              "\n",
              "    <script>\n",
              "      const buttonEl =\n",
              "        document.querySelector('#df-e30cc0c2-7efc-47a3-82dd-92dabb88c5b0 button.colab-df-convert');\n",
              "      buttonEl.style.display =\n",
              "        google.colab.kernel.accessAllowed ? 'block' : 'none';\n",
              "\n",
              "      async function convertToInteractive(key) {\n",
              "        const element = document.querySelector('#df-e30cc0c2-7efc-47a3-82dd-92dabb88c5b0');\n",
              "        const dataTable =\n",
              "          await google.colab.kernel.invokeFunction('convertToInteractive',\n",
              "                                                    [key], {});\n",
              "        if (!dataTable) return;\n",
              "\n",
              "        const docLinkHtml = 'Like what you see? Visit the ' +\n",
              "          '<a target=\"_blank\" href=https://colab.research.google.com/notebooks/data_table.ipynb>data table notebook</a>'\n",
              "          + ' to learn more about interactive tables.';\n",
              "        element.innerHTML = '';\n",
              "        dataTable['output_type'] = 'display_data';\n",
              "        await google.colab.output.renderOutput(dataTable, element);\n",
              "        const docLink = document.createElement('div');\n",
              "        docLink.innerHTML = docLinkHtml;\n",
              "        element.appendChild(docLink);\n",
              "      }\n",
              "    </script>\n",
              "  </div>\n",
              "\n",
              "\n",
              "<div id=\"df-b0e9a535-8db1-4377-8500-e826a23c747c\">\n",
              "  <button class=\"colab-df-quickchart\" onclick=\"quickchart('df-b0e9a535-8db1-4377-8500-e826a23c747c')\"\n",
              "            title=\"Suggest charts.\"\n",
              "            style=\"display:none;\">\n",
              "\n",
              "<svg xmlns=\"http://www.w3.org/2000/svg\" height=\"24px\"viewBox=\"0 0 24 24\"\n",
              "     width=\"24px\">\n",
              "    <g>\n",
              "        <path d=\"M19 3H5c-1.1 0-2 .9-2 2v14c0 1.1.9 2 2 2h14c1.1 0 2-.9 2-2V5c0-1.1-.9-2-2-2zM9 17H7v-7h2v7zm4 0h-2V7h2v10zm4 0h-2v-4h2v4z\"/>\n",
              "    </g>\n",
              "</svg>\n",
              "  </button>\n",
              "\n",
              "<style>\n",
              "  .colab-df-quickchart {\n",
              "      --bg-color: #E8F0FE;\n",
              "      --fill-color: #1967D2;\n",
              "      --hover-bg-color: #E2EBFA;\n",
              "      --hover-fill-color: #174EA6;\n",
              "      --disabled-fill-color: #AAA;\n",
              "      --disabled-bg-color: #DDD;\n",
              "  }\n",
              "\n",
              "  [theme=dark] .colab-df-quickchart {\n",
              "      --bg-color: #3B4455;\n",
              "      --fill-color: #D2E3FC;\n",
              "      --hover-bg-color: #434B5C;\n",
              "      --hover-fill-color: #FFFFFF;\n",
              "      --disabled-bg-color: #3B4455;\n",
              "      --disabled-fill-color: #666;\n",
              "  }\n",
              "\n",
              "  .colab-df-quickchart {\n",
              "    background-color: var(--bg-color);\n",
              "    border: none;\n",
              "    border-radius: 50%;\n",
              "    cursor: pointer;\n",
              "    display: none;\n",
              "    fill: var(--fill-color);\n",
              "    height: 32px;\n",
              "    padding: 0;\n",
              "    width: 32px;\n",
              "  }\n",
              "\n",
              "  .colab-df-quickchart:hover {\n",
              "    background-color: var(--hover-bg-color);\n",
              "    box-shadow: 0 1px 2px rgba(60, 64, 67, 0.3), 0 1px 3px 1px rgba(60, 64, 67, 0.15);\n",
              "    fill: var(--button-hover-fill-color);\n",
              "  }\n",
              "\n",
              "  .colab-df-quickchart-complete:disabled,\n",
              "  .colab-df-quickchart-complete:disabled:hover {\n",
              "    background-color: var(--disabled-bg-color);\n",
              "    fill: var(--disabled-fill-color);\n",
              "    box-shadow: none;\n",
              "  }\n",
              "\n",
              "  .colab-df-spinner {\n",
              "    border: 2px solid var(--fill-color);\n",
              "    border-color: transparent;\n",
              "    border-bottom-color: var(--fill-color);\n",
              "    animation:\n",
              "      spin 1s steps(1) infinite;\n",
              "  }\n",
              "\n",
              "  @keyframes spin {\n",
              "    0% {\n",
              "      border-color: transparent;\n",
              "      border-bottom-color: var(--fill-color);\n",
              "      border-left-color: var(--fill-color);\n",
              "    }\n",
              "    20% {\n",
              "      border-color: transparent;\n",
              "      border-left-color: var(--fill-color);\n",
              "      border-top-color: var(--fill-color);\n",
              "    }\n",
              "    30% {\n",
              "      border-color: transparent;\n",
              "      border-left-color: var(--fill-color);\n",
              "      border-top-color: var(--fill-color);\n",
              "      border-right-color: var(--fill-color);\n",
              "    }\n",
              "    40% {\n",
              "      border-color: transparent;\n",
              "      border-right-color: var(--fill-color);\n",
              "      border-top-color: var(--fill-color);\n",
              "    }\n",
              "    60% {\n",
              "      border-color: transparent;\n",
              "      border-right-color: var(--fill-color);\n",
              "    }\n",
              "    80% {\n",
              "      border-color: transparent;\n",
              "      border-right-color: var(--fill-color);\n",
              "      border-bottom-color: var(--fill-color);\n",
              "    }\n",
              "    90% {\n",
              "      border-color: transparent;\n",
              "      border-bottom-color: var(--fill-color);\n",
              "    }\n",
              "  }\n",
              "</style>\n",
              "\n",
              "  <script>\n",
              "    async function quickchart(key) {\n",
              "      const quickchartButtonEl =\n",
              "        document.querySelector('#' + key + ' button');\n",
              "      quickchartButtonEl.disabled = true;  // To prevent multiple clicks.\n",
              "      quickchartButtonEl.classList.add('colab-df-spinner');\n",
              "      try {\n",
              "        const charts = await google.colab.kernel.invokeFunction(\n",
              "            'suggestCharts', [key], {});\n",
              "      } catch (error) {\n",
              "        console.error('Error during call to suggestCharts:', error);\n",
              "      }\n",
              "      quickchartButtonEl.classList.remove('colab-df-spinner');\n",
              "      quickchartButtonEl.classList.add('colab-df-quickchart-complete');\n",
              "    }\n",
              "    (() => {\n",
              "      let quickchartButtonEl =\n",
              "        document.querySelector('#df-b0e9a535-8db1-4377-8500-e826a23c747c button');\n",
              "      quickchartButtonEl.style.display =\n",
              "        google.colab.kernel.accessAllowed ? 'block' : 'none';\n",
              "    })();\n",
              "  </script>\n",
              "</div>\n",
              "    </div>\n",
              "  </div>\n"
            ],
            "text/plain": [
              "       age  ethnicity  gender  \\\n",
              "0        1          2       0   \n",
              "1        1          2       0   \n",
              "2        1          2       0   \n",
              "3        1          2       0   \n",
              "4        1          2       0   \n",
              "...    ...        ...     ...   \n",
              "23700   99          0       1   \n",
              "23701   99          1       1   \n",
              "23702   99          2       1   \n",
              "23703   99          2       1   \n",
              "23704   99          0       1   \n",
              "\n",
              "                                                  pixels  \n",
              "0      129 128 128 126 127 130 133 135 139 142 145 14...  \n",
              "1      164 74 111 168 169 171 175 182 184 188 193 199...  \n",
              "2      67 70 71 70 69 67 70 79 90 103 116 132 145 155...  \n",
              "3      193 197 198 200 199 200 202 203 204 205 208 21...  \n",
              "4      202 205 209 210 209 209 210 211 212 214 218 21...  \n",
              "...                                                  ...  \n",
              "23700  127 100 94 81 77 77 74 99 102 98 128 145 160 1...  \n",
              "23701  23 28 32 35 42 47 68 85 98 103 113 117 130 129...  \n",
              "23702  59 50 37 40 34 19 30 101 156 170 177 184 187 1...  \n",
              "23703  45 108 120 156 206 197 140 180 191 199 204 207...  \n",
              "23704  156 161 160 165 170 173 166 177 183 191 187 18...  \n",
              "\n",
              "[23705 rows x 4 columns]"
            ]
          },
          "execution_count": 4,
          "metadata": {},
          "output_type": "execute_result"
        }
      ],
      "source": [
        "# Lets use pandas to load our data\n",
        "df = pandas.read_csv(\"/content/DL_assignment1_dataset.csv\")\n",
        "df"
      ]
    },
    {
      "cell_type": "markdown",
      "metadata": {
        "id": "2weDCP6jggYB"
      },
      "source": [
        "### For this assignment we will be using convolutional neural networks and the full data set.\n",
        "\n",
        "### Please do not change the seed for the sampling of data points."
      ]
    },
    {
      "cell_type": "markdown",
      "metadata": {
        "id": "PFZ8o68Jg2Ps"
      },
      "source": [
        "Let us take a look at an image. You will get an idea of how to process your data for your neural network."
      ]
    },
    {
      "cell_type": "markdown",
      "metadata": {
        "id": "eg-e0FwohgQC"
      },
      "source": [
        "The 4th column contains all the pixel values in a string for each image. Lets convert all the strings to arrays first."
      ]
    },
    {
      "cell_type": "code",
      "execution_count": 5,
      "metadata": {
        "id": "2-8cTv4PhqaJ"
      },
      "outputs": [],
      "source": [
        "def string_to_array(pixel_string):\n",
        "    pixel_list = pixel_string.split()\n",
        "    pixel_array = np.array([int(value) for value in pixel_list])\n",
        "    return pixel_array"
      ]
    },
    {
      "cell_type": "code",
      "execution_count": 6,
      "metadata": {
        "id": "JhS0ELt7bVSL"
      },
      "outputs": [],
      "source": [
        "df['pixels'] = df['pixels'].apply(string_to_array)"
      ]
    },
    {
      "cell_type": "code",
      "execution_count": 7,
      "metadata": {
        "colab": {
          "base_uri": "https://localhost:8080/"
        },
        "id": "cWoMBRYxbwDb",
        "outputId": "143d4885-9875-4cbf-8e23-1d19807fa842"
      },
      "outputs": [
        {
          "data": {
            "text/plain": [
              "0        [129, 128, 128, 126, 127, 130, 133, 135, 139, ...\n",
              "1        [164, 74, 111, 168, 169, 171, 175, 182, 184, 1...\n",
              "2        [67, 70, 71, 70, 69, 67, 70, 79, 90, 103, 116,...\n",
              "3        [193, 197, 198, 200, 199, 200, 202, 203, 204, ...\n",
              "4        [202, 205, 209, 210, 209, 209, 210, 211, 212, ...\n",
              "                               ...                        \n",
              "23700    [127, 100, 94, 81, 77, 77, 74, 99, 102, 98, 12...\n",
              "23701    [23, 28, 32, 35, 42, 47, 68, 85, 98, 103, 113,...\n",
              "23702    [59, 50, 37, 40, 34, 19, 30, 101, 156, 170, 17...\n",
              "23703    [45, 108, 120, 156, 206, 197, 140, 180, 191, 1...\n",
              "23704    [156, 161, 160, 165, 170, 173, 166, 177, 183, ...\n",
              "Name: pixels, Length: 23705, dtype: object"
            ]
          },
          "execution_count": 7,
          "metadata": {},
          "output_type": "execute_result"
        }
      ],
      "source": [
        "df['pixels']"
      ]
    },
    {
      "cell_type": "markdown",
      "metadata": {
        "id": "BhcEWMDbrZto"
      },
      "source": [
        "Our \"pixels\" column has been converted to arrays which we can now use as input features to our model"
      ]
    },
    {
      "cell_type": "markdown",
      "metadata": {
        "id": "lpBey7-Griwp"
      },
      "source": [
        "Lets show the first image of our dataset"
      ]
    },
    {
      "cell_type": "code",
      "execution_count": 8,
      "metadata": {
        "colab": {
          "base_uri": "https://localhost:8080/",
          "height": 500
        },
        "id": "yXEYMfj8etyN",
        "outputId": "7f852b2a-869d-4100-b28d-f290c5e6ae8d"
      },
      "outputs": [
        {
          "name": "stdout",
          "output_type": "stream",
          "text": [
            "Age: 1\n",
            "Ethnicity: 2\n",
            "Gender: 0\n"
          ]
        },
        {
          "data": {
            "text/plain": [
              "<matplotlib.image.AxesImage at 0x7d129ee95870>"
            ]
          },
          "execution_count": 8,
          "metadata": {},
          "output_type": "execute_result"
        },
        {
          "data": {
            "image/png": "[encoded data removed]",
            "text/plain": [
              "<Figure size 640x480 with 1 Axes>"
            ]
          },
          "metadata": {},
          "output_type": "display_data"
        }
      ],
      "source": [
        "index = 31\n",
        "first_image = df['pixels'][index]\n",
        "image = first_image.reshape((48,48))\n",
        "print(\"Age: \"+str(df[\"age\"][index])+\"\\nEthnicity: \"+str(df[\"ethnicity\"][index])+ \"\\nGender: \"+str(df[\"gender\"][index]))\n",
        "plt.imshow(image,cmap=\"gray\")"
      ]
    },
    {
      "cell_type": "markdown",
      "metadata": {
        "id": "x7DZZ8VZrRJR"
      },
      "source": [
        "Uptill now, an initial processing has already been done using pandas in this starter code jupyter notebook. Hence you have a data frame ready for your assignment.\n",
        "\n",
        "Please use the dataframe \"df\".\n",
        "\n",
        "### You should consult the Lab 5 document provided to you for the tasks that are needed to be done for the successful completion of this lab. Grading rubricks are also mentioned in detail there.\n",
        "\n",
        "# Note: In this lab you will be using all the 20,000 samples of this dataset.\n",
        "\n"
      ]
    },
    {
      "cell_type": "code",
      "execution_count": 61,
      "metadata": {
        "id": "Va1Ks8tWBVWV"
      },
      "outputs": [],
      "source": [
        "# Write any further imports you need here\n",
        "import torch\n",
        "from torch import nn\n",
        "import torch.optim as optim\n",
        "from torch.utils.data import DataLoader, Dataset\n",
        "from torchvision import datasets, transforms\n",
        "from torchvision.transforms import ToTensor\n",
        "from sklearn.model_selection import train_test_split\n",
        "from sklearn.metrics import confusion_matrix, f1_score\n",
        "from sklearn.utils.class_weight import compute_class_weight"
      ]
    },
    {
      "cell_type": "code",
      "execution_count": 62,
      "metadata": {
        "colab": {
          "base_uri": "https://localhost:8080/"
        },
        "id": "X2YO9wOT3T5a",
        "outputId": "c9b4bb66-9f08-42d0-9835-ab795dcb4f1a"
      },
      "outputs": [
        {
          "name": "stdout",
          "output_type": "stream",
          "text": [
            "CUDA available: True\n"
          ]
        }
      ],
      "source": [
        "#### ---------------- CUDA GPU available ---------------- ####\n",
        "use_cuda = torch.cuda.is_available()\n",
        "device = torch.device(\"cuda\" if use_cuda else \"cpu\")\n",
        "print ('CUDA available:', use_cuda)"
      ]
    },
    {
      "cell_type": "markdown",
      "metadata": {
        "id": "ld0OpGn0iLwf"
      },
      "source": [
        "________________________________\n",
        "## Class definitions:\n",
        "The following includes the Neural Network class, the Custom Dataset class to make use of PyTorch DataLoaders, as well as a Custom PyTorch style transformation to normalize the data"
      ]
    },
    {
      "cell_type": "code",
      "execution_count": 117,
      "metadata": {
        "id": "Y2HHwEDH65nV"
      },
      "outputs": [],
      "source": [
        "#### ---------------- neural network class ---------------- ####\n",
        "class LabCNN_Classifier(nn.Module):\n",
        "  def __init__(self, output_classes, input_channels=1):\n",
        "    super(LabCNN_Classifier, self).__init__()\n",
        "\n",
        "    self.conv_stack = nn.Sequential(\n",
        "        nn.Conv2d(input_channels, 32, kernel_size=3, padding=1),\n",
        "        nn.BatchNorm2d(32),\n",
        "        nn.PReLU(num_parameters=1, init=0.25),\n",
        "        nn.MaxPool2d(kernel_size=2, stride=2),\n",
        "\n",
        "        nn.Conv2d(32, 64, kernel_size=3, padding=1),\n",
        "        nn.BatchNorm2d(64),\n",
        "        nn.PReLU(num_parameters=1, init=0.25),\n",
        "        nn.MaxPool2d(kernel_size=2, stride=2),\n",
        "\n",
        "        nn.Conv2d(64, 128, kernel_size=3, padding=1),\n",
        "        nn.BatchNorm2d(128),\n",
        "        nn.PReLU(num_parameters=1, init=0.25),\n",
        "        nn.MaxPool2d(kernel_size=2, stride=2),\n",
        "    )\n",
        "\n",
        "    self.fc_stack = nn.Sequential(\n",
        "        nn.Linear(128 * 6 * 6, 512),\n",
        "        nn.BatchNorm1d(512),\n",
        "        nn.PReLU(num_parameters=1, init=0.25),\n",
        "        nn.Dropout(0.7),\n",
        "\n",
        "        nn.Linear(512, 256),\n",
        "        nn.BatchNorm1d(256),\n",
        "        nn.PReLU(num_parameters=1, init=0.25),\n",
        "        nn.Dropout(0.5),\n",
        "\n",
        "        nn.Linear(256, output_classes)\n",
        "    )\n",
        "\n",
        "  def forward(self, x):\n",
        "    x = x.view(x.size(0), 1, 48, 48)\n",
        "    x = self.conv_stack(x)\n",
        "    x = x.view(x.size(0), -1)  # Flatten the output for fully connected layers\n",
        "    logits = self.fc_stack(x)\n",
        "    return logits\n"
      ]
    },
    {
      "cell_type": "code",
      "execution_count": 118,
      "metadata": {
        "id": "Cr1y4KQ81zRc"
      },
      "outputs": [],
      "source": [
        "#### ---------------- dataset class for data loaders ---------------- ####\n",
        "\n",
        "class LabDataset(Dataset):\n",
        "  def __init__(self, data, transform=None):\n",
        "    self.data = data\n",
        "    self.transform = transform\n",
        "\n",
        "  def __len__(self):\n",
        "    return len(self.data)\n",
        "\n",
        "  def __getitem__(self, idx):\n",
        "    item = {\n",
        "              'age': self.data.iloc[idx, 0],\n",
        "              'ethnicity': self.data.iloc[idx, 1],\n",
        "              'gender': self.data.iloc[idx, 2],\n",
        "              'pixels': self.data.iloc[idx, 3]\n",
        "            }\n",
        "    item = self.transform(item)\n",
        "    return item"
      ]
    },
    {
      "cell_type": "code",
      "execution_count": 119,
      "metadata": {
        "id": "up9O85QI65cR"
      },
      "outputs": [],
      "source": [
        "#### ---------------- custom pytorch transformation for data ---------------- ####\n",
        "class Normalizer(object):\n",
        "  def __call__(self, item):\n",
        "    # 'item' contains an entry from the dataset\n",
        "    pixels_norm = np.array(item['pixels'])\n",
        "    pixels_norm = (pixels_norm - pixels_norm.min()) / (pixels_norm.max() - pixels_norm.min())\n",
        "    return {\n",
        "              'age': torch.tensor(item['age'], dtype=torch.float32),\n",
        "              'ethnicity': torch.tensor(item['ethnicity'], dtype=torch.long),\n",
        "              'gender': torch.tensor(item['gender'], dtype=torch.int),\n",
        "              'pixels': torch.tensor(pixels_norm, dtype=torch.float32)\n",
        "            }"
      ]
    },
    {
      "cell_type": "markdown",
      "metadata": {
        "id": "gQCZpypLl3WE"
      },
      "source": [
        "________________________________________________________________________\n",
        "## Module functions\n",
        "The following are training, validation, and testing functions to follow the modular code requirement of the lab"
      ]
    },
    {
      "cell_type": "code",
      "execution_count": 120,
      "metadata": {
        "id": "DLDfdL3vmAIr"
      },
      "outputs": [],
      "source": [
        "# runs one epoch of training phase\n",
        "def model_train(model, loss_func, optimizer, data_loader):\n",
        "  model.train()\n",
        "  running_loss = 0.0\n",
        "  correct = 0\n",
        "  total = 0\n",
        "\n",
        "  for batch in data_loader:\n",
        "    # extract input and labels from the batch\n",
        "    inputs = batch['pixels'].to(device)\n",
        "    labels = batch['ethnicity'].to(device)\n",
        "\n",
        "    # calculate initial predicted outputs & label (forward prop)\n",
        "    optimizer.zero_grad()\n",
        "    outputs = model(inputs)\n",
        "    _, predicted = torch.max(outputs, 1)\n",
        "\n",
        "    # calculate loss using cross-entropy loss\n",
        "    loss = loss_func(outputs, labels)\n",
        "\n",
        "    # backward propagation\n",
        "    loss.backward()\n",
        "    optimizer.step()\n",
        "    running_loss += loss.item()\n",
        "\n",
        "    # accuracy calc\n",
        "    total += labels.size(0)\n",
        "    correct += (predicted==labels).sum().item()\n",
        "\n",
        "  # calculate acc and loss for training in one epoch and return it\n",
        "  return {\n",
        "              'Accuracy' : correct / total,\n",
        "              'Loss' :  running_loss / len(train_loader),\n",
        "          }"
      ]
    },
    {
      "cell_type": "code",
      "execution_count": 121,
      "metadata": {
        "id": "0lFvaJbemG3V"
      },
      "outputs": [],
      "source": [
        "#### ---------------- validation and testing function ---------------- ####\n",
        "# runs one epoch of validation phase\n",
        "def model_val(model, loss_func, data_loader, testing=False):\n",
        "  model.eval()\n",
        "  running_loss = 0.0\n",
        "  correct = 0\n",
        "  all_labels = [] # saving labels and predicted so f1 score can be calculated with scikit\n",
        "  all_predicted = []\n",
        "\n",
        "  with torch.no_grad():\n",
        "    for batch in data_loader:\n",
        "      # extract input and labels from the batch\n",
        "      inputs = batch['pixels'].to(device)\n",
        "      labels = batch['ethnicity'].to(device)\n",
        "\n",
        "      # predict labels based on provided inputs and calculate running_loss\n",
        "      outputs = model(inputs)\n",
        "      val_loss = loss_func(outputs, labels)\n",
        "      running_loss += val_loss.item()\n",
        "\n",
        "      # append labels and predicted labels for calculating f1 and acc\n",
        "      _, predicted = torch.max(outputs, 1) # get actual predicted label\n",
        "      correct += (predicted == labels).sum().item()\n",
        "      all_labels += labels\n",
        "      all_predicted += predicted\n",
        "\n",
        "\n",
        "  all_labels = [tensor.cpu().numpy() for tensor in all_labels]\n",
        "  all_predicted = [tensor.cpu().numpy() for tensor in all_predicted]\n",
        "  num_batches = len(data_loader)\n",
        "\n",
        "  metrics = {\n",
        "              'Accuracy' : correct  /  len(all_labels),\n",
        "              'Loss' : running_loss / num_batches,\n",
        "              'F1 Score' : f1_score(all_labels, all_predicted, average='weighted'),\n",
        "              'Confusion Matrix' : confusion_matrix(all_labels, all_predicted),\n",
        "            }\n",
        "\n",
        "  if testing is True:\n",
        "    extra = {\n",
        "              'Label' : all_labels,\n",
        "              'Predicted' : all_predicted,\n",
        "            }\n",
        "    return metrics, extra # also return labels/predictions if it is testing phase\n",
        "\n",
        "  return metrics # only return metrics for validation"
      ]
    },
    {
      "cell_type": "code",
      "execution_count": 122,
      "metadata": {
        "id": "4DsrsbzcWlWs"
      },
      "outputs": [],
      "source": [
        "#### ---------------- dictionary printing function ---------------- ####\n",
        "# prints dictionaries nicely for the sake of ease of handling/displaying information\n",
        "def print_dict(dictionary, breakpoint=4, spaces=2, testing=False):\n",
        "  counter = 1\n",
        "  for key, value in dictionary.items():\n",
        "    # Only print confusion matrices if it is testing phase, not val\n",
        "    if not testing and isinstance(value, (list, np.ndarray)):\n",
        "        continue\n",
        "    elif testing and isinstance(value, (list, np.ndarray)):\n",
        "        print(f\"\\n\\n{key}:\\n{value}\", end=\"\\n\")\n",
        "        continue\n",
        "    # Appropriate line spacing and line breaks\n",
        "    formatted_value = f\"{value:.4f}\" if isinstance(value, float) else value\n",
        "    separator = \"  \" if counter % breakpoint != 0 else \"\\n\"\n",
        "\n",
        "    print(f\"{' ' * spaces}{key}: {formatted_value}\", end=separator)\n",
        "    counter += 1\n",
        "\n",
        "  print(\"\\n\")"
      ]
    },
    {
      "cell_type": "markdown",
      "metadata": {
        "id": "XbTvcma7iu1w"
      },
      "source": [
        "____________________________________________________\n",
        "## Driver code\n",
        "This includes the handling and splitting of datasets, creating all necessary steps to build and train a model, as well as displaying the results."
      ]
    },
    {
      "cell_type": "code",
      "execution_count": 123,
      "metadata": {
        "colab": {
          "base_uri": "https://localhost:8080/"
        },
        "id": "dSssFoqH0lTj",
        "outputId": "aa78e114-4006-4ded-f9c6-ac7bb0b518b9"
      },
      "outputs": [
        {
          "name": "stdout",
          "output_type": "stream",
          "text": [
            "Training data contains:  16593  entries\n",
            "Validation data contains:  3556  entries\n",
            "Testing data contains:  3556  entries\n",
            "\n",
            "\n"
          ]
        }
      ],
      "source": [
        "#### --------------------------- data handling --------------------------- ####\n",
        "\n",
        "# splitting the dataset\n",
        "train, temp_test = train_test_split(df, test_size=0.3, random_state=40)\n",
        "test, val = train_test_split(temp_test, test_size=0.5, random_state=40)\n",
        "\n",
        "print(\"Training data contains: \", len(train), \" entries\")\n",
        "print(\"Validation data contains: \", len(val), \" entries\")\n",
        "print(\"Testing data contains: \", len(test), \" entries\\n\\n\")\n",
        "\n",
        "# converting to custom dataset classes:\n",
        "transform = transforms.Compose([Normalizer()])\n",
        "train_data = LabDataset(train, transform)\n",
        "val_data = LabDataset(val, transform)\n",
        "test_data = LabDataset(test, transform)\n",
        "\n",
        "# data loaders\n",
        "batch = 32\n",
        "train_loader = DataLoader(train_data, batch_size=batch, shuffle=True)\n",
        "val_loader = DataLoader(val_data, batch_size=batch, shuffle=True)\n",
        "test_loader = DataLoader(test_data, batch_size=batch)"
      ]
    },
    {
      "cell_type": "code",
      "execution_count": 124,
      "metadata": {
        "colab": {
          "base_uri": "https://localhost:8080/"
        },
        "id": "GENKGcf04uqu",
        "outputId": "678398cb-0f31-45d5-dad8-ff7074d060ad"
      },
      "outputs": [
        {
          "name": "stdout",
          "output_type": "stream",
          "text": [
            "Occurrences of each label:\n",
            "0    7050\n",
            "1    3188\n",
            "3    2766\n",
            "2    2392\n",
            "4    1197\n",
            "Name: ethnicity, dtype: int64\n"
          ]
        }
      ],
      "source": [
        "print(\"Occurrences of each label:\")\n",
        "print(train['ethnicity'].value_counts())"
      ]
    },
    {
      "cell_type": "code",
      "execution_count": 125,
      "metadata": {
        "id": "amOZ-gyW72ev"
      },
      "outputs": [],
      "source": [
        "#### ---------------- creating model/loss_function/optimizer ---------------- ####\n",
        "\n",
        "# model\n",
        "input_size = len(train_data[0]['pixels']) # img size\n",
        "output_classes = len(train['ethnicity'].unique()) # num of unique classes\n",
        "model = LabCNN_Classifier(output_classes, input_channels=1)\n",
        "model.to(device)\n",
        "\n",
        "# loss function - specifying class weights in loss, since some classes have fewer entries than others\n",
        "eth_vals = df['ethnicity'].values\n",
        "class_weights = compute_class_weight('balanced', classes=np.unique(eth_vals), y=eth_vals)\n",
        "ce_loss = nn.CrossEntropyLoss( weight=torch.tensor(class_weights, dtype=torch.float32).to(device) )\n",
        "\n",
        "\n",
        "# optimizer - Adam\n",
        "lr = 0.00003\n",
        "optimizer = optim.Adam(model.parameters(), lr=lr)"
      ]
    },
    {
      "cell_type": "code",
      "execution_count": 126,
      "metadata": {
        "colab": {
          "base_uri": "https://localhost:8080/"
        },
        "id": "SSzA_S87kWAB",
        "outputId": "b81d1376-9375-44c2-8bf0-392b77e4bbc7"
      },
      "outputs": [
        {
          "name": "stdout",
          "output_type": "stream",
          "text": [
            "Epoch 1\n",
            "------------------------------------\n",
            "Training Metrics: \n",
            "  Accuracy: 0.4311    Loss: 1.3909  \n",
            "\n",
            "Validation Metrics: \n",
            "  Accuracy: 0.5734    Loss: 1.1416    F1 Score: 0.5764  \n",
            "\n",
            "Epoch 2\n",
            "------------------------------------\n",
            "Training Metrics: \n",
            "  Accuracy: 0.5722    Loss: 1.1356  \n",
            "\n",
            "Validation Metrics: \n",
            "  Accuracy: 0.6448    Loss: 0.9866    F1 Score: 0.6498  \n",
            "\n",
            "Epoch 3\n",
            "------------------------------------\n",
            "Training Metrics: \n",
            "  Accuracy: 0.6334    Loss: 1.0046  \n",
            "\n",
            "Validation Metrics: \n",
            "  Accuracy: 0.6777    Loss: 0.9173    F1 Score: 0.6840  \n",
            "\n",
            "Epoch 4\n",
            "------------------------------------\n",
            "Training Metrics: \n",
            "  Accuracy: 0.6665    Loss: 0.9208  \n",
            "\n",
            "Validation Metrics: \n",
            "  Accuracy: 0.6952    Loss: 0.8591    F1 Score: 0.7063  \n",
            "\n",
            "Epoch 5\n",
            "------------------------------------\n",
            "Training Metrics: \n",
            "  Accuracy: 0.6900    Loss: 0.8618  \n",
            "\n",
            "Validation Metrics: \n",
            "  Accuracy: 0.7148    Loss: 0.8366    F1 Score: 0.7223  \n",
            "\n",
            "Epoch 6\n",
            "------------------------------------\n",
            "Training Metrics: \n",
            "  Accuracy: 0.7078    Loss: 0.8118  \n",
            "\n",
            "Validation Metrics: \n",
            "  Accuracy: 0.7053    Loss: 0.8169    F1 Score: 0.7125  \n",
            "\n",
            "Epoch 7\n",
            "------------------------------------\n",
            "Training Metrics: \n",
            "  Accuracy: 0.7202    Loss: 0.7654  \n",
            "\n",
            "Validation Metrics: \n",
            "  Accuracy: 0.7323    Loss: 0.7914    F1 Score: 0.7375  \n",
            "\n",
            "Epoch 8\n",
            "------------------------------------\n",
            "Training Metrics: \n",
            "  Accuracy: 0.7367    Loss: 0.7185  \n",
            "\n",
            "Validation Metrics: \n",
            "  Accuracy: 0.7163    Loss: 0.7769    F1 Score: 0.7323  \n",
            "\n",
            "Epoch 9\n",
            "------------------------------------\n",
            "Training Metrics: \n",
            "  Accuracy: 0.7516    Loss: 0.6713  \n",
            "\n",
            "Validation Metrics: \n",
            "  Accuracy: 0.7320    Loss: 0.7736    F1 Score: 0.7411  \n",
            "\n",
            "Epoch 10\n",
            "------------------------------------\n",
            "Training Metrics: \n",
            "  Accuracy: 0.7651    Loss: 0.6253  \n",
            "\n",
            "Validation Metrics: \n",
            "  Accuracy: 0.7227    Loss: 0.7724    F1 Score: 0.7328  \n",
            "\n",
            "Epoch 11\n",
            "------------------------------------\n",
            "Training Metrics: \n",
            "  Accuracy: 0.7795    Loss: 0.5904  \n",
            "\n",
            "Validation Metrics: \n",
            "  Accuracy: 0.7430    Loss: 0.7802    F1 Score: 0.7489  \n",
            "\n",
            "Epoch 12\n",
            "------------------------------------\n",
            "Training Metrics: \n",
            "  Accuracy: 0.7865    Loss: 0.5503  \n",
            "\n",
            "Validation Metrics: \n",
            "  Accuracy: 0.7106    Loss: 0.7907    F1 Score: 0.7243  \n",
            "\n",
            "Epoch 13\n",
            "------------------------------------\n",
            "Training Metrics: \n",
            "  Accuracy: 0.8053    Loss: 0.5093  \n",
            "\n",
            "Validation Metrics: \n",
            "  Accuracy: 0.7340    Loss: 0.7810    F1 Score: 0.7418  \n",
            "\n",
            "Epoch 14\n",
            "------------------------------------\n",
            "Training Metrics: \n",
            "  Accuracy: 0.8150    Loss: 0.4722  \n",
            "\n",
            "Validation Metrics: \n",
            "  Accuracy: 0.7461    Loss: 0.7906    F1 Score: 0.7515  \n",
            "\n",
            "Epoch 15\n",
            "------------------------------------\n",
            "Training Metrics: \n",
            "  Accuracy: 0.8252    Loss: 0.4449  \n",
            "\n",
            "Validation Metrics: \n",
            "  Accuracy: 0.7328    Loss: 0.7765    F1 Score: 0.7475  \n",
            "\n",
            "Epoch 16\n",
            "------------------------------------\n",
            "Training Metrics: \n",
            "  Accuracy: 0.8416    Loss: 0.3992  \n",
            "\n",
            "Validation Metrics: \n",
            "  Accuracy: 0.7413    Loss: 0.8220    F1 Score: 0.7468  \n",
            "\n",
            "Epoch 17\n",
            "------------------------------------\n",
            "Training Metrics: \n",
            "  Accuracy: 0.8504    Loss: 0.3690  \n",
            "\n",
            "Validation Metrics: \n",
            "  Accuracy: 0.7438    Loss: 0.8466    F1 Score: 0.7513  \n",
            "\n",
            "Epoch 18\n",
            "------------------------------------\n",
            "Training Metrics: \n",
            "  Accuracy: 0.8596    Loss: 0.3493  \n",
            "\n",
            "Validation Metrics: \n",
            "  Accuracy: 0.7348    Loss: 0.8452    F1 Score: 0.7463  \n",
            "\n",
            "Epoch 19\n",
            "------------------------------------\n",
            "Training Metrics: \n",
            "  Accuracy: 0.8678    Loss: 0.3264  \n",
            "\n",
            "Validation Metrics: \n",
            "  Accuracy: 0.7424    Loss: 0.8507    F1 Score: 0.7519  \n",
            "\n",
            "Epoch 20\n",
            "------------------------------------\n",
            "Training Metrics: \n",
            "  Accuracy: 0.8778    Loss: 0.2913  \n",
            "\n",
            "Validation Metrics: \n",
            "  Accuracy: 0.7421    Loss: 0.8798    F1 Score: 0.7511  \n",
            "\n"
          ]
        }
      ],
      "source": [
        "#### ---------------- train and test the model ---------------- ####\n",
        "epochs = 20\n",
        "\n",
        "# lists for collecting plotting data\n",
        "train_accs = []\n",
        "train_losses = []\n",
        "val_accs = []\n",
        "val_losses = []\n",
        "val_f1s = []\n",
        "\n",
        "for epoch in range(epochs):\n",
        "\n",
        "  # train and test the models, collect all returned values\n",
        "  train_metrics = model_train(model, ce_loss, optimizer, train_loader)\n",
        "  val_metrics = model_val(model, ce_loss, val_loader)\n",
        "\n",
        "  # append to relevant arrays\n",
        "  train_accs.append(train_metrics['Accuracy'])\n",
        "  train_losses.append( train_metrics['Loss'])\n",
        "  val_accs.append(val_metrics['Accuracy'])\n",
        "  val_losses.append(val_metrics['Loss'])\n",
        "  val_f1s.append(val_metrics['F1 Score'])\n",
        "\n",
        "  print(f\"Epoch {epoch+1}\\n------------------------------------\")\n",
        "  print(\"Training Metrics: \")\n",
        "  print_dict(train_metrics)\n",
        "  print(\"Validation Metrics: \")\n",
        "  print_dict(val_metrics)"
      ]
    },
    {
      "cell_type": "code",
      "execution_count": 127,
      "metadata": {
        "colab": {
          "base_uri": "https://localhost:8080/",
          "height": 496
        },
        "id": "Ozzx_T8g3ok_",
        "outputId": "68fa8b07-de46-4a7a-ebd8-a7e3a11505a5"
      },
      "outputs": [
        {
          "data": {
            "image/png": "[encoded data removed]",
            "text/plain": [
              "<Figure size 1800x500 with 3 Axes>"
            ]
          },
          "metadata": {},
          "output_type": "display_data"
        }
      ],
      "source": [
        "#### ---------------- plot the findings ---------------- ####\n",
        "\n",
        "# using subplots\n",
        "fig, axs = plt.subplots(1, 3, figsize=(18,5))\n",
        "eps = range(1, epochs+1)\n",
        "\n",
        "# val_loss and train_loss against each epoch\n",
        "axs[0].plot(eps, train_losses, label='Train Loss')\n",
        "axs[0].plot(eps, val_losses, label='Validation Loss')\n",
        "axs[0].set_title('Training and Validation Loss')\n",
        "axs[0].set_xlabel('Epochs')\n",
        "axs[0].set_ylabel('Loss')\n",
        "axs[0].legend()\n",
        "\n",
        "# Plot val_acc and train_acc against each epoch\n",
        "axs[1].plot(eps, train_accs, label='Train Accuracy')\n",
        "axs[1].plot(eps, val_accs, label='Validation Accuracy')\n",
        "axs[1].set_title('Training and Validation Accuracy')\n",
        "axs[1].set_xlabel('Epochs')\n",
        "axs[1].set_ylabel('Accuracy')\n",
        "axs[1].legend()\n",
        "\n",
        "# Plot val_f1 against each epoch\n",
        "axs[2].plot(eps, val_f1s, label='Validation F1-Score', color='orange')\n",
        "axs[2].set_title('Validation F1-Score')\n",
        "axs[2].set_xlabel('Epochs')\n",
        "axs[2].set_ylabel('F1-Score')\n",
        "axs[2].legend()\n",
        "\n",
        "# Adjust layout\n",
        "plt.tight_layout()\n",
        "plt.show()\n"
      ]
    },
    {
      "cell_type": "code",
      "execution_count": 128,
      "metadata": {
        "colab": {
          "base_uri": "https://localhost:8080/"
        },
        "id": "aCDdcDmYzSc-",
        "outputId": "7f2c247a-5af5-4427-edc6-dd38b0b9a369"
      },
      "outputs": [
        {
          "name": "stdout",
          "output_type": "stream",
          "text": [
            "Final Model Performance:\n",
            "==========================================================\n",
            "\n",
            "  Accuracy: 0.7565    Loss: 0.8684    F1 Score: 0.7625  \n",
            "\n",
            "Confusion Matrix:\n",
            "[[1151   59   88   92  121]\n",
            " [  20  548   17   33   40]\n",
            " [  31   11  455   17   22]\n",
            " [  51   35   29  441   48]\n",
            " [  55   24   25   48   95]]\n",
            "\n",
            "\n",
            "Sample Tests:\n",
            "==========================================================\n",
            "\n",
            "Sample Test #0:\n",
            "Label: 3, Predicted: 1, \n",
            "\n",
            "Sample Test #500:\n",
            "Label: 0, Predicted: 0, \n",
            "\n",
            "Sample Test #1000:\n",
            "Label: 0, Predicted: 0, \n",
            "\n",
            "Sample Test #1500:\n",
            "Label: 3, Predicted: 3, \n",
            "\n",
            "Sample Test #2000:\n",
            "Label: 0, Predicted: 3, \n",
            "\n",
            "Sample Test #2500:\n",
            "Label: 1, Predicted: 1, \n",
            "\n",
            "Sample Test #3000:\n",
            "Label: 3, Predicted: 3, \n",
            "\n",
            "Sample Test #3500:\n",
            "Label: 1, Predicted: 1, \n",
            "\n"
          ]
        }
      ],
      "source": [
        "#### ---------------- final model testing ---------------- ####\n",
        "test_metrics, results = model_val(model, ce_loss, test_loader, testing=True)\n",
        "\n",
        "print(\"Final Model Performance:\\n==========================================================\\n\")\n",
        "print_dict(test_metrics, testing=True)\n",
        "print(\"Sample Tests:\\n==========================================================\\n\")\n",
        "\n",
        "# print some sample tests\n",
        "keys = list(results.keys())\n",
        "values = list(results.values())\n",
        "for i in range(len(values[0])):\n",
        "    if i % 500 == 0:\n",
        "      print(f\"Sample Test #{i}:\")\n",
        "      counter = 0\n",
        "      for key, value in zip(keys, values):\n",
        "        counter += 1\n",
        "        separator = \", \" if counter % 3 != 0 else \"\\n\"\n",
        "        value[i] = value[i].item() if torch.is_tensor(value[i]) else value[i]\n",
        "        print(f\"{key}: {np.round(value[i])}\", end=separator)\n",
        "      print(\"\\n\")"
      ]
    }
  ],
  "metadata": {
    "accelerator": "GPU",
    "colab": {
      "gpuType": "T4",
      "provenance": []
    },
    "kernelspec": {
      "display_name": "Python 3",
      "name": "python3"
    },
    "language_info": {
      "name": "python"
    }
  },
  "nbformat": 4,
  "nbformat_minor": 0
}
