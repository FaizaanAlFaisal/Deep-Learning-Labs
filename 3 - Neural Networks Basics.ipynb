{
  "cells": [
    {
      "cell_type": "markdown",
      "metadata": {
        "id": "OJCZy7OzFW6D"
      },
      "source": [
        "# Deep Learning - Lab 3\n",
        "# Neural Network Basics\n",
        "\n",
        "**Name: Faizaan Al Faisal**\n",
        "\n",
        "__________________________________________\n"
      ]
    },
    {
      "cell_type": "markdown",
      "metadata": {
        "id": "To55fZkl_xXt"
      },
      "source": [
        "Most machine learning workflows involve working with data, creating models, optimizing model parameters, and saving the trained models. This tutorial introduces you to a complete ML workflow implemented in PyTorch covering all these steps."
      ]
    },
    {
      "cell_type": "markdown",
      "metadata": {
        "id": "kZupGrRBNAUV"
      },
      "source": [
        "#Task 1"
      ]
    },
    {
      "cell_type": "code",
      "execution_count": null,
      "metadata": {
        "collapsed": true,
        "id": "RkS7oENV_tPJ"
      },
      "outputs": [],
      "source": [
        "import torch\n",
        "from torch import nn\n",
        "from torch.utils.data import DataLoader\n",
        "from torchvision import datasets\n",
        "from torchvision.transforms import ToTensor\n",
        "import matplotlib.pyplot as plt\n",
        "import random\n",
        "import numpy as np"
      ]
    },
    {
      "cell_type": "markdown",
      "metadata": {
        "id": "40DkoQ8grGu1"
      },
      "source": [
        "Check if GPU is available."
      ]
    },
    {
      "cell_type": "code",
      "execution_count": null,
      "metadata": {
        "colab": {
          "base_uri": "https://localhost:8080/"
        },
        "id": "jwmL4UIAdEwP",
        "outputId": "4cfe6f90-ed48-4931-b66e-c7d3ba34b6ba"
      },
      "outputs": [
        {
          "name": "stdout",
          "output_type": "stream",
          "text": [
            "<== CUDA availability : ==> True\n"
          ]
        }
      ],
      "source": [
        "use_cuda = torch.cuda.is_available()\n",
        "device = torch.device(\"cuda\" if use_cuda else \"cpu\")\n",
        "print ('<== CUDA availability : ==>', use_cuda)"
      ]
    },
    {
      "cell_type": "markdown",
      "metadata": {
        "id": "KetqVm4erSUw"
      },
      "source": [
        "Set seed for reproducability."
      ]
    },
    {
      "cell_type": "code",
      "execution_count": null,
      "metadata": {
        "collapsed": true,
        "id": "mOG06vbU-IM0"
      },
      "outputs": [],
      "source": [
        "def set_seeds(seed):\n",
        "    torch.backends.cudnn.benchmark = False\n",
        "    torch.backends.cudnn.determinictic = True\n",
        "    torch.cuda.manual_seed_all(seed)\n",
        "    np.random.seed(seed)\n",
        "    torch.manual_seed(seed)\n",
        "    random.seed(seed)\n",
        "set_seeds(42)"
      ]
    },
    {
      "cell_type": "markdown",
      "metadata": {
        "id": "0rRdAkvlrZBW"
      },
      "source": [
        "PyTorch offers domain-specific libraries such as TorchText, TorchVision, and TorchAudio, all of which include datasets. For this lab, we will be using a TorchVision dataset. Load one of the prebuilt datasets from pytorch repository. Currently, we are not using any transform (manipulation) on input data. We are just converting each image to tensor.\n"
      ]
    },
    {
      "cell_type": "code",
      "execution_count": null,
      "metadata": {
        "id": "XJ3EHXcWdU1c"
      },
      "outputs": [],
      "source": [
        "training_data = datasets.MNIST(\n",
        "    root=\"data\",\n",
        "    train=True,\n",
        "    download=True,\n",
        "    transform=ToTensor(),\n",
        ")\n",
        "\n",
        "# Download test data from open datasets.\n",
        "test_data = datasets.MNIST(\n",
        "    root=\"data\",\n",
        "    train=False,\n",
        "    download=True,\n",
        "    transform=ToTensor(),\n",
        ")"
      ]
    },
    {
      "cell_type": "markdown",
      "metadata": {
        "id": "IVkvzCgsrv4J"
      },
      "source": [
        "Visualise some of the input images."
      ]
    },
    {
      "cell_type": "code",
      "execution_count": null,
      "metadata": {
        "colab": {
          "base_uri": "https://localhost:8080/",
          "height": 675
        },
        "id": "WtSrzX_RoC4M",
        "outputId": "59e81e36-7dec-49b5-f92d-0fbd3e39eae8"
      },
      "outputs": [
        {
          "data": {
            "image/png": "[encoded data removed]",
            "text/plain": [
              "<Figure size 800x800 with 9 Axes>"
            ]
          },
          "metadata": {},
          "output_type": "display_data"
        }
      ],
      "source": [
        "labels_map = {\n",
        "    0: \"zero\",\n",
        "    1: \"one\",\n",
        "    2: \"two\",\n",
        "    3: \"three\",\n",
        "    4: \"four\",\n",
        "    5: \"five\",\n",
        "    6: \"six\",\n",
        "    7: \"seven\",\n",
        "    8: \"eight\",\n",
        "    9: \"nine\",\n",
        "}\n",
        "figure = plt.figure(figsize=(8, 8))\n",
        "cols, rows = 3, 3\n",
        "for i in range(1, cols * rows + 1):\n",
        "    sample_idx = torch.randint(len(training_data), size=(1,)).item()  # randomly pick indices from the training data\n",
        "    img, label = training_data[sample_idx]                            # Read the images using their indices.\n",
        "    figure.add_subplot(rows, cols, i)\n",
        "    plt.title(labels_map[label])\n",
        "    plt.axis(\"off\")\n",
        "    plt.imshow(img.squeeze(), cmap=\"gray\")\n",
        "plt.show()"
      ]
    },
    {
      "cell_type": "markdown",
      "metadata": {
        "id": "Ab2BgCNEsXrF"
      },
      "source": [
        "Check the size and shape of training and validation data."
      ]
    },
    {
      "cell_type": "code",
      "execution_count": null,
      "metadata": {
        "colab": {
          "base_uri": "https://localhost:8080/"
        },
        "id": "OIIl0TeGpIFc",
        "outputId": "a158997a-1626-41dc-b0cc-cf6a85d31c92"
      },
      "outputs": [
        {
          "name": "stdout",
          "output_type": "stream",
          "text": [
            "Shape of Training Data (60000, 2)\n",
            "Shape of Test Data (10000, 2)\n"
          ]
        }
      ],
      "source": [
        "print ('Shape of Training Data', np.shape(training_data))\n",
        "print ('Shape of Test Data', np.shape(test_data))"
      ]
    },
    {
      "cell_type": "markdown",
      "metadata": {
        "id": "SOnCrvfiOwQ3"
      },
      "source": [
        "The shape of the training set is (6000,2). This means that we have 6000 thousand samples with 2 entities. The first entity is the image and the second entity is its label. Forexample:\n",
        "\n",
        "**training_data[0][0]** is the first image of training set\n",
        "\n",
        "**training_data[0][1]** is the label of the first image in the training set"
      ]
    },
    {
      "cell_type": "markdown",
      "metadata": {
        "id": "op8bXLMWsWZW"
      },
      "source": [
        "Now pass the Dataset as an argument to DataLoader. This wraps an iterable over our dataset, and supports automatic batching, sampling, shuffling and multiprocess data loading. Here we define a batch size of 64, i.e. each element in the dataloader iterable will return a batch of 64 features and labels."
      ]
    },
    {
      "cell_type": "code",
      "execution_count": null,
      "metadata": {
        "colab": {
          "base_uri": "https://localhost:8080/"
        },
        "id": "PBHnky5-deQT",
        "outputId": "844b0128-f9ae-4b17-bfcf-792cd2f69403"
      },
      "outputs": [
        {
          "name": "stdout",
          "output_type": "stream",
          "text": [
            "Shape of X [N, C, H, W]: torch.Size([64, 1, 28, 28])\n",
            "Shape of y: torch.Size([64]) torch.int64\n"
          ]
        }
      ],
      "source": [
        "batch_size = 64\n",
        "\n",
        "# Create data loaders.\n",
        "train_dataloader = DataLoader(training_data, batch_size=batch_size)\n",
        "test_dataloader = DataLoader(test_data, batch_size=batch_size)\n",
        "\n",
        "for X, y in test_dataloader:\n",
        "    print(f\"Shape of X [N, C, H, W]: {X.shape}\")\n",
        "    print(f\"Shape of y: {y.shape} {y.dtype}\")\n",
        "    break"
      ]
    },
    {
      "cell_type": "markdown",
      "metadata": {
        "id": "dQ-D7Ky7tbIJ"
      },
      "source": [
        "To define a neural network in PyTorch, we create a class that inherits from nn.Module. We define the layers of the network in the __init__ function and specify how data will pass through the network in the forward function. To accelerate operations in the neural network, we move it to the GPU if available."
      ]
    },
    {
      "cell_type": "code",
      "execution_count": null,
      "metadata": {
        "colab": {
          "base_uri": "https://localhost:8080/"
        },
        "id": "A4DenYqBdtsb",
        "outputId": "55ebf5b0-9b61-4b25-cb78-b230963ffd0f"
      },
      "outputs": [
        {
          "name": "stdout",
          "output_type": "stream",
          "text": [
            "NeuralNetwork(\n",
            "  (flatten): Flatten(start_dim=1, end_dim=-1)\n",
            "  (linear_relu_stack): Sequential(\n",
            "    (0): Linear(in_features=784, out_features=512, bias=True)\n",
            "    (1): ReLU()\n",
            "    (2): Dropout(p=0.5, inplace=False)\n",
            "    (3): Linear(in_features=512, out_features=256, bias=True)\n",
            "    (4): ReLU()\n",
            "    (5): Dropout(p=0.5, inplace=False)\n",
            "    (6): Linear(in_features=256, out_features=10, bias=True)\n",
            "  )\n",
            ")\n"
          ]
        }
      ],
      "source": [
        "# Define model\n",
        "class NeuralNetwork(nn.Module):\n",
        "    def __init__(self):\n",
        "        super(NeuralNetwork, self).__init__()\n",
        "        self.flatten = nn.Flatten()\n",
        "        self.linear_relu_stack = nn.Sequential(\n",
        "          nn.Linear(28*28, 512),\n",
        "          nn.ReLU(),\n",
        "          nn.Dropout(0.5),\n",
        "          nn.Linear(512, 256),\n",
        "          nn.ReLU(),\n",
        "          nn.Dropout(0.5),\n",
        "          nn.Linear(256, 10)\n",
        "        )\n",
        "\n",
        "    def forward(self, x):\n",
        "        x = self.flatten(x)\n",
        "        logits = self.linear_relu_stack(x)\n",
        "        return logits\n",
        "\n",
        "model = NeuralNetwork().to(device)\n",
        "print(model)"
      ]
    },
    {
      "cell_type": "markdown",
      "metadata": {
        "id": "a2Qg9UFhtoz9"
      },
      "source": [
        "# Q1 You may change the width of each layer from 128 to 256 and 512 and observe the difference in network performance.\n",
        "\n",
        "# Try adding and removing layers. Keeping all other setup the same, how does the network behave with the change in depth (number of layers) and width (size of each layer)?"
      ]
    },
    {
      "cell_type": "markdown",
      "metadata": {
        "id": "Cg5Z5r2TXSGz"
      },
      "source": [
        "Now define the loss function and set up optimiser."
      ]
    },
    {
      "cell_type": "code",
      "execution_count": null,
      "metadata": {
        "collapsed": true,
        "id": "_cJDd0k0dz6F"
      },
      "outputs": [],
      "source": [
        "loss_fn = nn.CrossEntropyLoss()\n",
        "\n",
        "optimizer = torch.optim.Adam(model.parameters(), lr=1e-4 )"
      ]
    },
    {
      "cell_type": "markdown",
      "metadata": {
        "id": "yH0-ep8JuIxq"
      },
      "source": [
        "# Q2: Try changing the learning rate from 1e-3 to 1e-4. What do you observe?\n",
        "\n",
        "# Try the Adam optimizer instead of SGD. How the learning process changes?\n",
        "\n"
      ]
    },
    {
      "cell_type": "markdown",
      "metadata": {
        "id": "MiTDkSYyXEic"
      },
      "source": [
        "Define train function."
      ]
    },
    {
      "cell_type": "code",
      "execution_count": null,
      "metadata": {
        "collapsed": true,
        "id": "wUaNY59Td46x"
      },
      "outputs": [],
      "source": [
        "def train(dataloader, model, loss_fn, optimizer):\n",
        "    size = len(dataloader.dataset)\n",
        "    model.train()\n",
        "    running_loss = 0                            # accumuate loss of each input sample\n",
        "    for batch, (X, y) in enumerate(dataloader):\n",
        "        X, y = X.to(device), y.to(device)       # assign input samples to the available device (CPU or GPU) for computation.\n",
        "\n",
        "        # Compute prediction error\n",
        "        pred = model(X)\n",
        "        loss = loss_fn(pred, y)\n",
        "\n",
        "        # Backpropagation\n",
        "        optimizer.zero_grad()                   # set the gradients to zero to avoid gradient accumuation. Gradient Accumulation is useful in some cases, like in training RNN.\n",
        "        loss.backward()\n",
        "        optimizer.step()\n",
        "        running_loss += loss.item()\n",
        "        if batch % 100 == 0:\n",
        "            loss, current = loss.item(), batch * len(X)\n",
        "            #print(f\"training loss: {loss:>7f}  [{current:>5d}/{size:>5d}]\")\n",
        "\n",
        "    return running_loss/len(dataloader)"
      ]
    },
    {
      "cell_type": "markdown",
      "metadata": {
        "id": "5rzoSK6-wZmn"
      },
      "source": [
        "Define evaluation function."
      ]
    },
    {
      "cell_type": "code",
      "execution_count": null,
      "metadata": {
        "collapsed": true,
        "id": "I5DNOqJTd-Tl"
      },
      "outputs": [],
      "source": [
        "def test(dataloader, model, loss_fn):\n",
        "    size = len(dataloader.dataset)\n",
        "    num_batches = len(dataloader)\n",
        "    model.eval()\n",
        "    test_loss, correct = 0, 0\n",
        "    with torch.no_grad():         # No gradients need to be calculated for evaluation. Just the forward pass.\n",
        "        for X, y in dataloader:\n",
        "            X, y = X.to(device), y.to(device)\n",
        "            pred = model(X)\n",
        "            test_loss += loss_fn(pred, y).item()\n",
        "            correct += (pred.argmax(1) == y).type(torch.float).sum().item()\n",
        "    test_loss /= num_batches\n",
        "    correct /= size               # Normalise correctly classified count.\n",
        "    print(f\"test loss: \\nAccuracy: {(100*correct):>0.1f}%, avg loss: {test_loss:>8f} \\n\")\n",
        "\n",
        "    return test_loss"
      ]
    },
    {
      "cell_type": "markdown",
      "metadata": {
        "id": "qqqLOBWPwz0Z"
      },
      "source": [
        "Initiate Training Process"
      ]
    },
    {
      "cell_type": "code",
      "execution_count": null,
      "metadata": {
        "colab": {
          "base_uri": "https://localhost:8080/",
          "height": 1000
        },
        "id": "4No_AhMkeEJ6",
        "outputId": "c1564bc1-045b-44dc-b8fd-b4fd2ad86563"
      },
      "outputs": [
        {
          "name": "stdout",
          "output_type": "stream",
          "text": [
            "Epoch 1\n",
            "-------------------------------\n",
            "test loss: \n",
            "Accuracy: 91.2%, avg loss: 0.315276 \n",
            "\n",
            "Epoch 2\n",
            "-------------------------------\n",
            "test loss: \n",
            "Accuracy: 92.9%, avg loss: 0.234188 \n",
            "\n",
            "Epoch 3\n",
            "-------------------------------\n",
            "test loss: \n",
            "Accuracy: 94.2%, avg loss: 0.191599 \n",
            "\n",
            "Epoch 4\n",
            "-------------------------------\n",
            "test loss: \n",
            "Accuracy: 95.2%, avg loss: 0.159453 \n",
            "\n",
            "Epoch 5\n",
            "-------------------------------\n",
            "test loss: \n",
            "Accuracy: 95.9%, avg loss: 0.138229 \n",
            "\n",
            "Epoch 6\n",
            "-------------------------------\n",
            "test loss: \n",
            "Accuracy: 96.3%, avg loss: 0.121708 \n",
            "\n",
            "Epoch 7\n",
            "-------------------------------\n",
            "test loss: \n",
            "Accuracy: 96.6%, avg loss: 0.110100 \n",
            "\n",
            "Epoch 8\n",
            "-------------------------------\n",
            "test loss: \n",
            "Accuracy: 96.9%, avg loss: 0.100419 \n",
            "\n",
            "Epoch 9\n",
            "-------------------------------\n",
            "test loss: \n",
            "Accuracy: 97.1%, avg loss: 0.093811 \n",
            "\n",
            "Epoch 10\n",
            "-------------------------------\n",
            "test loss: \n",
            "Accuracy: 97.4%, avg loss: 0.088320 \n",
            "\n",
            "Epoch 11\n",
            "-------------------------------\n",
            "test loss: \n",
            "Accuracy: 97.4%, avg loss: 0.083874 \n",
            "\n",
            "Epoch 12\n",
            "-------------------------------\n",
            "test loss: \n",
            "Accuracy: 97.4%, avg loss: 0.080949 \n",
            "\n",
            "Epoch 13\n",
            "-------------------------------\n",
            "test loss: \n",
            "Accuracy: 97.7%, avg loss: 0.076039 \n",
            "\n",
            "Epoch 14\n",
            "-------------------------------\n",
            "test loss: \n",
            "Accuracy: 97.8%, avg loss: 0.075178 \n",
            "\n",
            "Epoch 15\n",
            "-------------------------------\n",
            "test loss: \n",
            "Accuracy: 97.8%, avg loss: 0.071804 \n",
            "\n",
            "Epoch 16\n",
            "-------------------------------\n",
            "test loss: \n",
            "Accuracy: 97.9%, avg loss: 0.069964 \n",
            "\n",
            "Epoch 17\n",
            "-------------------------------\n",
            "test loss: \n",
            "Accuracy: 98.0%, avg loss: 0.065926 \n",
            "\n",
            "Epoch 18\n",
            "-------------------------------\n",
            "test loss: \n",
            "Accuracy: 98.0%, avg loss: 0.066370 \n",
            "\n",
            "Epoch 19\n",
            "-------------------------------\n",
            "test loss: \n",
            "Accuracy: 98.0%, avg loss: 0.063940 \n",
            "\n",
            "Epoch 20\n",
            "-------------------------------\n",
            "test loss: \n",
            "Accuracy: 98.1%, avg loss: 0.062002 \n",
            "\n",
            "Done!\n"
          ]
        },
        {
          "data": {
            "image/png": "[encoded data removed]",
            "text/plain": [
              "<Figure size 1000x500 with 1 Axes>"
            ]
          },
          "metadata": {},
          "output_type": "display_data"
        }
      ],
      "source": [
        "epochs = 20\n",
        "train_losses = []\n",
        "test_losses = []\n",
        "\n",
        "for t in range(epochs):\n",
        "    print(f\"Epoch {t+1}\\n-------------------------------\")\n",
        "\n",
        "    train_loss = train(train_dataloader, model, loss_fn, optimizer)\n",
        "    train_losses.append(train_loss)\n",
        "\n",
        "    test_loss = test(test_dataloader, model, loss_fn)\n",
        "    test_losses.append(test_loss)\n",
        "\n",
        "print(\"Done!\")\n",
        "\n",
        "# Plot training and validation losses.\n",
        "plt.figure(figsize=(10,5))\n",
        "plt.title(\"Training and Validation Loss\")\n",
        "plt.plot(test_losses,label=\"validation\")\n",
        "plt.plot(train_losses,label=\"training\")\n",
        "plt.xlabel(\"Epochs\")\n",
        "plt.ylabel(\"Loss\")\n",
        "plt.legend()\n",
        "plt.show()"
      ]
    },
    {
      "cell_type": "markdown",
      "metadata": {
        "id": "Occtt3Punozu"
      },
      "source": [
        "# Q3: Try 5, 10 and 50 epoch and record values for average validation loss and accuracy"
      ]
    },
    {
      "cell_type": "markdown",
      "metadata": {
        "id": "j1b3M8fKIdSc"
      },
      "source": [
        "# Q4: What activation function is generally used for multiclass classification? Why didn't we use an activation function at the end of our neural network that we have defined?\n",
        "\n"
      ]
    },
    {
      "cell_type": "code",
      "execution_count": null,
      "metadata": {
        "colab": {
          "base_uri": "https://localhost:8080/"
        },
        "id": "lagrC_tveIKP",
        "outputId": "2db6079f-6567-4414-8bb2-a57f0995d4dd"
      },
      "outputs": [
        {
          "name": "stdout",
          "output_type": "stream",
          "text": [
            "Saved PyTorch Model State to model.pth\n"
          ]
        }
      ],
      "source": [
        "torch.save(model.state_dict(), \"model.pth\")\n",
        "print(\"Saved PyTorch Model State to model.pth\")"
      ]
    },
    {
      "cell_type": "markdown",
      "metadata": {
        "id": "DgWr6QqdxXQD"
      },
      "source": [
        "Perform Inferrence"
      ]
    },
    {
      "cell_type": "code",
      "execution_count": null,
      "metadata": {
        "colab": {
          "base_uri": "https://localhost:8080/",
          "height": 464
        },
        "id": "gzDIvKlaQ3SF",
        "outputId": "3568c4aa-d789-4618-e2b1-b4b39bc0f5d1"
      },
      "outputs": [
        {
          "name": "stdout",
          "output_type": "stream",
          "text": [
            "Predicted: \"two\", Actual: \"two\"\n"
          ]
        },
        {
          "data": {
            "text/plain": [
              "<matplotlib.image.AxesImage at 0x7de6244d5ae0>"
            ]
          },
          "execution_count": 15,
          "metadata": {},
          "output_type": "execute_result"
        },
        {
          "data": {
            "image/png": "[encoded data removed]",
            "text/plain": [
              "<Figure size 640x480 with 1 Axes>"
            ]
          },
          "metadata": {},
          "output_type": "display_data"
        }
      ],
      "source": [
        "classes = [\n",
        "    \"zero\",\n",
        "    \"one\",\n",
        "    \"two\",\n",
        "    \"three\",\n",
        "    \"four\",\n",
        "    \"five\",\n",
        "    \"six\",\n",
        "    \"seven\",\n",
        "    \"eight\",\n",
        "    \"nine\",\n",
        "]\n",
        "#classes = np.array(test_data.class_to_idx.values())\n",
        "#testimg = random.\n",
        "model.eval()\n",
        "sample_number = 400 # Keep 0 <= sample_number < 10,000\n",
        "x, y = test_data[sample_number][0], test_data[sample_number][1]\n",
        "model.to(\"cpu\")\n",
        "with torch.no_grad():\n",
        "    pred = model(x)\n",
        "    predicted, actual = classes[pred[0].argmax(0)], classes[y]\n",
        "    print(f'Predicted: \"{predicted}\", Actual: \"{actual}\"')\n",
        "\n",
        "img, label = test_data[sample_number]                            # Read the images using their indices.\n",
        "    #figure.add_subplot(rows, cols, i)\n",
        "plt.figure()\n",
        "plt.title(\"Predcited: \"+ predicted + \"     Actual: \" + labels_map[label])\n",
        "plt.axis(\"off\")\n",
        "plt.imshow(img.squeeze(), cmap=\"gray\")"
      ]
    },
    {
      "cell_type": "markdown",
      "metadata": {
        "id": "87xRWodMpzKL"
      },
      "source": [
        "#Task 2"
      ]
    },
    {
      "cell_type": "markdown",
      "metadata": {
        "id": "sLOx1PYdNAUh"
      },
      "source": [
        "#Repeat all of above steps for Fashion MNIST dataset, apply question 1, 2 and 3 and report the accuracies."
      ]
    },
    {
      "cell_type": "code",
      "execution_count": 280,
      "metadata": {
        "collapsed": true,
        "id": "I51Ia0vvNAUh"
      },
      "outputs": [],
      "source": [
        "import torch\n",
        "import torch.nn as nn\n",
        "import torch.optim as optim\n",
        "from torch.utils.data import DataLoader\n",
        "from torchvision import datasets, transforms"
      ]
    },
    {
      "cell_type": "code",
      "execution_count": 281,
      "metadata": {
        "id": "wMq5_aixALGo"
      },
      "outputs": [],
      "source": [
        "# data loading and handling\n",
        "batch_size = 32\n",
        "transform = transforms.Compose([transforms.ToTensor(), transforms.Normalize((0.5,), (0.5,))])\n",
        "\n",
        "train_dataset = datasets.FashionMNIST(root='./data', train=True, download=True, transform=transform)\n",
        "test_dataset = datasets.FashionMNIST(root='./data', train=False, download=True, transform=transform)\n",
        "\n",
        "train_loader = DataLoader(train_dataset, batch_size=batch_size, shuffle=True)\n",
        "test_loader = DataLoader(test_dataset, batch_size=batch_size, shuffle=False)"
      ]
    },
    {
      "cell_type": "code",
      "execution_count": 282,
      "metadata": {
        "id": "eKaz7ndEAevH"
      },
      "outputs": [],
      "source": [
        "# neural network classifier for fashion mnist data\n",
        "class FashionMNISTClassifier(nn.Module):\n",
        "    def __init__(self):\n",
        "        super(FashionMNISTClassifier, self).__init__()\n",
        "        self.flatten = nn.Flatten()\n",
        "        self.linear_relu_stack = nn.Sequential( # setting the layers\n",
        "            nn.Linear(28*28, 128),\n",
        "            nn.ReLU(),\n",
        "            nn.Dropout(0.5),\n",
        "\n",
        "            nn.Linear(128, 256),\n",
        "            nn.ReLU(),\n",
        "            nn.Dropout(0.4),\n",
        "\n",
        "            nn.Linear(256, 10),\n",
        "        )\n",
        "\n",
        "    def forward(self, x):\n",
        "        x = self.flatten(x)\n",
        "        logits = self.linear_relu_stack(x)\n",
        "        return logits"
      ]
    },
    {
      "cell_type": "code",
      "execution_count": 283,
      "metadata": {
        "id": "mGnvyRmQAxE4"
      },
      "outputs": [],
      "source": [
        "# model, loss function, and optimizer\n",
        "model = FashionMNISTClassifier()\n",
        "ce_loss = nn.CrossEntropyLoss()\n",
        "optimizer = optim.Adam(model.parameters(), lr=1e-4)"
      ]
    },
    {
      "cell_type": "code",
      "execution_count": 284,
      "metadata": {
        "colab": {
          "base_uri": "https://localhost:8080/",
          "height": 1000
        },
        "id": "kifjsRB4BeHX",
        "outputId": "9d694b6c-d014-4800-d42f-cdf1e483dc7c"
      },
      "outputs": [
        {
          "name": "stdout",
          "output_type": "stream",
          "text": [
            "Epoch 1\n",
            "--------------------------------------------------------------\n",
            "Training Loss: 0.8801, Validation Loss: 0.8480, Accuracy: 0.7971\n",
            "\n",
            "\n",
            "Epoch 2\n",
            "--------------------------------------------------------------\n",
            "Training Loss: 0.5768, Validation Loss: 0.6731, Accuracy: 0.8236\n",
            "\n",
            "\n",
            "Epoch 3\n",
            "--------------------------------------------------------------\n",
            "Training Loss: 0.5107, Validation Loss: 0.5545, Accuracy: 0.8319\n",
            "\n",
            "\n",
            "Epoch 4\n",
            "--------------------------------------------------------------\n",
            "Training Loss: 0.4770, Validation Loss: 0.4579, Accuracy: 0.8421\n",
            "\n",
            "\n",
            "Epoch 5\n",
            "--------------------------------------------------------------\n",
            "Training Loss: 0.4559, Validation Loss: 0.5230, Accuracy: 0.8433\n",
            "\n",
            "\n",
            "Epoch 6\n",
            "--------------------------------------------------------------\n",
            "Training Loss: 0.4406, Validation Loss: 0.5995, Accuracy: 0.8548\n",
            "\n",
            "\n",
            "Epoch 7\n",
            "--------------------------------------------------------------\n",
            "Training Loss: 0.4230, Validation Loss: 0.3774, Accuracy: 0.8537\n",
            "\n",
            "\n",
            "Epoch 8\n",
            "--------------------------------------------------------------\n",
            "Training Loss: 0.4157, Validation Loss: 0.3507, Accuracy: 0.8612\n",
            "\n",
            "\n",
            "Epoch 9\n",
            "--------------------------------------------------------------\n",
            "Training Loss: 0.4037, Validation Loss: 0.5813, Accuracy: 0.8595\n",
            "\n",
            "\n",
            "Epoch 10\n",
            "--------------------------------------------------------------\n",
            "Training Loss: 0.3984, Validation Loss: 0.4077, Accuracy: 0.8632\n",
            "\n",
            "\n"
          ]
        },
        {
          "data": {
            "image/png": "[encoded data removed]",
            "text/plain": [
              "<Figure size 640x480 with 1 Axes>"
            ]
          },
          "metadata": {},
          "output_type": "display_data"
        }
      ],
      "source": [
        "# Lists to store losses for plotting\n",
        "train_losses = []\n",
        "test_losses = []\n",
        "\n",
        "epochs = 10\n",
        "for epoch in range(epochs):\n",
        "\n",
        "  # training phase\n",
        "  model.train()\n",
        "  running_loss = 0.0\n",
        "\n",
        "  for inputs, labels in train_loader:\n",
        "    # calculate initial predicted outputs\n",
        "    optimizer.zero_grad()\n",
        "    outputs = model(inputs)\n",
        "    # calculate loss using cross-entropy loss\n",
        "    loss = ce_loss(outputs, labels)\n",
        "    # backward propagation\n",
        "    loss.backward()\n",
        "    optimizer.step()\n",
        "    running_loss += loss.item()\n",
        "\n",
        "  train_loss = running_loss / len(train_loader)\n",
        "  train_losses.append(train_loss)\n",
        "\n",
        "\n",
        "  # evaluation or testing phase\n",
        "  model.eval()\n",
        "  total = 0\n",
        "  correct = 0\n",
        "  running_test_loss = 0.0\n",
        "\n",
        "  with torch.no_grad():\n",
        "    for inputs, labels in test_loader:\n",
        "        outputs = model(inputs)\n",
        "        running_test_loss += loss.item()\n",
        "        _, predicted = torch.max(outputs, 1)\n",
        "        total += labels.size(0)\n",
        "        correct += (predicted == labels).sum().item()\n",
        "  test_loss = running_test_loss / len(test_loader)\n",
        "  test_losses.append(test_loss)\n",
        "  # accuracy and display\n",
        "  acc = correct / total\n",
        "  print(f\"Epoch {epoch+1}\\n--------------------------------------------------------------\")\n",
        "  print(f\"Training Loss: {train_loss:.4f}, Validation Loss: {test_loss:.4f}, Accuracy: {acc:.4f}\\n\\n\")\n",
        "\n",
        "\n",
        "# plotting\n",
        "import matplotlib.pyplot as plt\n",
        "\n",
        "plt.plot(range(1, epochs + 1), train_losses, label='Training')\n",
        "plt.plot(range(1, epochs + 1), test_losses, label='Testing')\n",
        "plt.xlabel('Epoch')\n",
        "plt.ylabel('Loss')\n",
        "plt.legend()\n",
        "plt.show()\n"
      ]
    },
    {
      "cell_type": "markdown",
      "metadata": {
        "id": "RtKJqz53_q9X"
      },
      "source": [
        "#**Submission**\n",
        "\n",
        "## **Submit a lab report containing codes, screenshots of output and tables for comparision of accuracies for both task 1 and task2 (for both MNIST and Fashion MNIST datasets) with your name and registration number at the top.**\n",
        "\n",
        "## **Try to achieve the best accuracies you can in classifying the images.**\n",
        "\n",
        "## **Remember, the more you elaborate your report, the higher the marks you will get.**"
      ]
    }
  ],
  "metadata": {
    "accelerator": "GPU",
    "colab": {
      "gpuType": "T4",
      "provenance": []
    },
    "kernelspec": {
      "display_name": "Python 3",
      "name": "python3"
    },
    "language_info": {
      "codemirror_mode": {
        "name": "ipython",
        "version": 3
      },
      "file_extension": ".py",
      "mimetype": "text/x-python",
      "name": "python",
      "nbconvert_exporter": "python",
      "pygments_lexer": "ipython3",
      "version": "3.6.2"
    }
  },
  "nbformat": 4,
  "nbformat_minor": 0
}
